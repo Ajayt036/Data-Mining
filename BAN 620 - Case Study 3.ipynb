{
 "cells": [
  {
   "cell_type": "markdown",
   "id": "ef8048ca",
   "metadata": {},
   "source": [
    "## Import required packages."
   ]
  },
  {
   "cell_type": "code",
   "execution_count": 1,
   "id": "af865c09",
   "metadata": {},
   "outputs": [],
   "source": [
    "from pathlib import Path\n",
    "\n",
    "import numpy as np\n",
    "import pandas as pd\n",
    "\n",
    "from sklearn.linear_model import LogisticRegression\n",
    "from sklearn.model_selection import train_test_split\n",
    "#from mord import LogisticIT\n",
    "\n",
    "import statsmodels.api as sm\n",
    "\n",
    "from dmba import classificationSummary, gainsChart, liftChart\n",
    "\n",
    "%matplotlib inline\n",
    "import matplotlib.pylab as plt\n",
    "\n",
    "from dmba import backward_elimination, forward_selection, stepwise_selection\n",
    "from dmba import adjusted_r2_score, AIC_score, BIC_score"
   ]
  },
  {
   "cell_type": "markdown",
   "id": "f2602fc6",
   "metadata": {},
   "source": [
    "### 1B. Create a flight_df data frame by uploading the original data set into Python. Remove‘DEST’ and ‘ORIGIN’ variables from the flight_df data frame. Convert ‘CARRIER’ and‘FL_STATUS’ into binary variables."
   ]
  },
  {
   "cell_type": "code",
   "execution_count": 2,
   "id": "39003d2a",
   "metadata": {},
   "outputs": [
    {
     "name": "stdout",
     "output_type": "stream",
     "text": [
      "Number of Rows  2201\n",
      "Number of Columns:  11 \n",
      "\n",
      "\n"
     ]
    }
   ],
   "source": [
    "flight_df = pd.read_csv(\"FlightDelays.csv\")\n",
    "print(\"Number of Rows \",flight_df.shape[0])\n",
    "print(\"Number of Columns: \",flight_df.shape[1],\"\\n\"*2)"
   ]
  },
  {
   "cell_type": "code",
   "execution_count": 3,
   "id": "c242965f",
   "metadata": {},
   "outputs": [
    {
     "name": "stdout",
     "output_type": "stream",
     "text": [
      "Updated Number of Columns:  9 \n",
      "\n",
      "\n"
     ]
    }
   ],
   "source": [
    "#Removing two columns from the dataset\n",
    "flight_df = flight_df.drop(columns=[\"DEST\",\"ORIGIN\"])\n",
    "print(\"Updated Number of Columns: \",flight_df.shape[1],\"\\n\"*2)"
   ]
  },
  {
   "cell_type": "code",
   "execution_count": 4,
   "id": "c5f8ff25",
   "metadata": {},
   "outputs": [
    {
     "data": {
      "text/html": [
       "<div>\n",
       "<style scoped>\n",
       "    .dataframe tbody tr th:only-of-type {\n",
       "        vertical-align: middle;\n",
       "    }\n",
       "\n",
       "    .dataframe tbody tr th {\n",
       "        vertical-align: top;\n",
       "    }\n",
       "\n",
       "    .dataframe thead th {\n",
       "        text-align: right;\n",
       "    }\n",
       "</style>\n",
       "<table border=\"1\" class=\"dataframe\">\n",
       "  <thead>\n",
       "    <tr style=\"text-align: right;\">\n",
       "      <th></th>\n",
       "      <th>SCH_TIME</th>\n",
       "      <th>DEP_TIME</th>\n",
       "      <th>DISTANCE</th>\n",
       "      <th>FL_NUM</th>\n",
       "      <th>WEATHER</th>\n",
       "      <th>WK_DAY</th>\n",
       "      <th>MTH_DAY</th>\n",
       "      <th>CARRIER_DH</th>\n",
       "      <th>CARRIER_DL</th>\n",
       "      <th>CARRIER_MQ</th>\n",
       "      <th>CARRIER_OH</th>\n",
       "      <th>CARRIER_RU</th>\n",
       "      <th>CARRIER_UA</th>\n",
       "      <th>CARRIER_US</th>\n",
       "      <th>FL_STATUS_ontime</th>\n",
       "    </tr>\n",
       "  </thead>\n",
       "  <tbody>\n",
       "    <tr>\n",
       "      <th>0</th>\n",
       "      <td>1455</td>\n",
       "      <td>1455</td>\n",
       "      <td>184</td>\n",
       "      <td>5935</td>\n",
       "      <td>0</td>\n",
       "      <td>4</td>\n",
       "      <td>1</td>\n",
       "      <td>0</td>\n",
       "      <td>0</td>\n",
       "      <td>0</td>\n",
       "      <td>1</td>\n",
       "      <td>0</td>\n",
       "      <td>0</td>\n",
       "      <td>0</td>\n",
       "      <td>1</td>\n",
       "    </tr>\n",
       "    <tr>\n",
       "      <th>1</th>\n",
       "      <td>1640</td>\n",
       "      <td>1640</td>\n",
       "      <td>213</td>\n",
       "      <td>6155</td>\n",
       "      <td>0</td>\n",
       "      <td>4</td>\n",
       "      <td>1</td>\n",
       "      <td>1</td>\n",
       "      <td>0</td>\n",
       "      <td>0</td>\n",
       "      <td>0</td>\n",
       "      <td>0</td>\n",
       "      <td>0</td>\n",
       "      <td>0</td>\n",
       "      <td>1</td>\n",
       "    </tr>\n",
       "    <tr>\n",
       "      <th>2</th>\n",
       "      <td>1245</td>\n",
       "      <td>1245</td>\n",
       "      <td>229</td>\n",
       "      <td>7208</td>\n",
       "      <td>0</td>\n",
       "      <td>4</td>\n",
       "      <td>1</td>\n",
       "      <td>1</td>\n",
       "      <td>0</td>\n",
       "      <td>0</td>\n",
       "      <td>0</td>\n",
       "      <td>0</td>\n",
       "      <td>0</td>\n",
       "      <td>0</td>\n",
       "      <td>1</td>\n",
       "    </tr>\n",
       "    <tr>\n",
       "      <th>3</th>\n",
       "      <td>1715</td>\n",
       "      <td>1709</td>\n",
       "      <td>229</td>\n",
       "      <td>7215</td>\n",
       "      <td>0</td>\n",
       "      <td>4</td>\n",
       "      <td>1</td>\n",
       "      <td>1</td>\n",
       "      <td>0</td>\n",
       "      <td>0</td>\n",
       "      <td>0</td>\n",
       "      <td>0</td>\n",
       "      <td>0</td>\n",
       "      <td>0</td>\n",
       "      <td>1</td>\n",
       "    </tr>\n",
       "    <tr>\n",
       "      <th>4</th>\n",
       "      <td>1039</td>\n",
       "      <td>1035</td>\n",
       "      <td>229</td>\n",
       "      <td>7792</td>\n",
       "      <td>0</td>\n",
       "      <td>4</td>\n",
       "      <td>1</td>\n",
       "      <td>1</td>\n",
       "      <td>0</td>\n",
       "      <td>0</td>\n",
       "      <td>0</td>\n",
       "      <td>0</td>\n",
       "      <td>0</td>\n",
       "      <td>0</td>\n",
       "      <td>1</td>\n",
       "    </tr>\n",
       "    <tr>\n",
       "      <th>...</th>\n",
       "      <td>...</td>\n",
       "      <td>...</td>\n",
       "      <td>...</td>\n",
       "      <td>...</td>\n",
       "      <td>...</td>\n",
       "      <td>...</td>\n",
       "      <td>...</td>\n",
       "      <td>...</td>\n",
       "      <td>...</td>\n",
       "      <td>...</td>\n",
       "      <td>...</td>\n",
       "      <td>...</td>\n",
       "      <td>...</td>\n",
       "      <td>...</td>\n",
       "      <td>...</td>\n",
       "    </tr>\n",
       "    <tr>\n",
       "      <th>2196</th>\n",
       "      <td>645</td>\n",
       "      <td>644</td>\n",
       "      <td>199</td>\n",
       "      <td>2761</td>\n",
       "      <td>0</td>\n",
       "      <td>6</td>\n",
       "      <td>31</td>\n",
       "      <td>0</td>\n",
       "      <td>0</td>\n",
       "      <td>0</td>\n",
       "      <td>0</td>\n",
       "      <td>1</td>\n",
       "      <td>0</td>\n",
       "      <td>0</td>\n",
       "      <td>1</td>\n",
       "    </tr>\n",
       "    <tr>\n",
       "      <th>2197</th>\n",
       "      <td>1700</td>\n",
       "      <td>1653</td>\n",
       "      <td>213</td>\n",
       "      <td>2497</td>\n",
       "      <td>0</td>\n",
       "      <td>6</td>\n",
       "      <td>31</td>\n",
       "      <td>0</td>\n",
       "      <td>0</td>\n",
       "      <td>0</td>\n",
       "      <td>0</td>\n",
       "      <td>1</td>\n",
       "      <td>0</td>\n",
       "      <td>0</td>\n",
       "      <td>1</td>\n",
       "    </tr>\n",
       "    <tr>\n",
       "      <th>2198</th>\n",
       "      <td>1600</td>\n",
       "      <td>1558</td>\n",
       "      <td>199</td>\n",
       "      <td>2361</td>\n",
       "      <td>0</td>\n",
       "      <td>6</td>\n",
       "      <td>31</td>\n",
       "      <td>0</td>\n",
       "      <td>0</td>\n",
       "      <td>0</td>\n",
       "      <td>0</td>\n",
       "      <td>1</td>\n",
       "      <td>0</td>\n",
       "      <td>0</td>\n",
       "      <td>1</td>\n",
       "    </tr>\n",
       "    <tr>\n",
       "      <th>2199</th>\n",
       "      <td>1359</td>\n",
       "      <td>1403</td>\n",
       "      <td>199</td>\n",
       "      <td>2216</td>\n",
       "      <td>0</td>\n",
       "      <td>6</td>\n",
       "      <td>31</td>\n",
       "      <td>0</td>\n",
       "      <td>0</td>\n",
       "      <td>0</td>\n",
       "      <td>0</td>\n",
       "      <td>1</td>\n",
       "      <td>0</td>\n",
       "      <td>0</td>\n",
       "      <td>1</td>\n",
       "    </tr>\n",
       "    <tr>\n",
       "      <th>2200</th>\n",
       "      <td>1730</td>\n",
       "      <td>1736</td>\n",
       "      <td>199</td>\n",
       "      <td>2097</td>\n",
       "      <td>0</td>\n",
       "      <td>6</td>\n",
       "      <td>31</td>\n",
       "      <td>0</td>\n",
       "      <td>0</td>\n",
       "      <td>0</td>\n",
       "      <td>0</td>\n",
       "      <td>1</td>\n",
       "      <td>0</td>\n",
       "      <td>0</td>\n",
       "      <td>1</td>\n",
       "    </tr>\n",
       "  </tbody>\n",
       "</table>\n",
       "<p>2201 rows × 15 columns</p>\n",
       "</div>"
      ],
      "text/plain": [
       "      SCH_TIME  DEP_TIME  DISTANCE  FL_NUM  WEATHER  WK_DAY  MTH_DAY  \\\n",
       "0         1455      1455       184    5935        0       4        1   \n",
       "1         1640      1640       213    6155        0       4        1   \n",
       "2         1245      1245       229    7208        0       4        1   \n",
       "3         1715      1709       229    7215        0       4        1   \n",
       "4         1039      1035       229    7792        0       4        1   \n",
       "...        ...       ...       ...     ...      ...     ...      ...   \n",
       "2196       645       644       199    2761        0       6       31   \n",
       "2197      1700      1653       213    2497        0       6       31   \n",
       "2198      1600      1558       199    2361        0       6       31   \n",
       "2199      1359      1403       199    2216        0       6       31   \n",
       "2200      1730      1736       199    2097        0       6       31   \n",
       "\n",
       "      CARRIER_DH  CARRIER_DL  CARRIER_MQ  CARRIER_OH  CARRIER_RU  CARRIER_UA  \\\n",
       "0              0           0           0           1           0           0   \n",
       "1              1           0           0           0           0           0   \n",
       "2              1           0           0           0           0           0   \n",
       "3              1           0           0           0           0           0   \n",
       "4              1           0           0           0           0           0   \n",
       "...          ...         ...         ...         ...         ...         ...   \n",
       "2196           0           0           0           0           1           0   \n",
       "2197           0           0           0           0           1           0   \n",
       "2198           0           0           0           0           1           0   \n",
       "2199           0           0           0           0           1           0   \n",
       "2200           0           0           0           0           1           0   \n",
       "\n",
       "      CARRIER_US  FL_STATUS_ontime  \n",
       "0              0                 1  \n",
       "1              0                 1  \n",
       "2              0                 1  \n",
       "3              0                 1  \n",
       "4              0                 1  \n",
       "...          ...               ...  \n",
       "2196           0                 1  \n",
       "2197           0                 1  \n",
       "2198           0                 1  \n",
       "2199           0                 1  \n",
       "2200           0                 1  \n",
       "\n",
       "[2201 rows x 15 columns]"
      ]
     },
     "execution_count": 4,
     "metadata": {},
     "output_type": "execute_result"
    }
   ],
   "source": [
    "#Changing Ojects columns into Binary Columns\n",
    "flight_df.CARRIER = flight_df.CARRIER.astype('category')\n",
    "flight_df.FL_STATUS = flight_df.FL_STATUS.astype('category')\n",
    "flight_df = pd.get_dummies(flight_df, prefix_sep='_', drop_first=True)\n",
    "flight_df"
   ]
  },
  {
   "cell_type": "markdown",
   "id": "2e2ede63",
   "metadata": {},
   "source": [
    "### 2A. Develop in Python the predictor variables (14 variables) and outcome variable (‘FL_STATUS’) and partition the data set (60% for training and 40% for validation partitions). Train a logistic regression model using LogisticRegression() with the training 2 data set and display in Python the model’s parameters (intercept and regression coefficients). Provide these parameters in your report and also present the mathematical equation of the trained logistic regression model."
   ]
  },
  {
   "cell_type": "code",
   "execution_count": 5,
   "id": "a0b346cf",
   "metadata": {},
   "outputs": [
    {
     "name": "stdout",
     "output_type": "stream",
     "text": [
      "Parameters of Logistic Regresion Model with Multiple Predictors\n",
      "Intercept: 0.051\n",
      "Coefficients for Predictors\n",
      "        SCH_TIME  DEP_TIME  DISTANCE  FL_NUM  WEATHER  WK_DAY  MTH_DAY  \\\n",
      "Coeff:     0.033    -0.034     0.009     0.0   -0.247   0.097   -0.021   \n",
      "\n",
      "        CARRIER_DH  CARRIER_DL  CARRIER_MQ  CARRIER_OH  CARRIER_RU  \\\n",
      "Coeff:        0.35       0.782      -1.054       0.236       -0.05   \n",
      "\n",
      "        CARRIER_UA  CARRIER_US  \n",
      "Coeff:       0.053      -0.043  \n"
     ]
    }
   ],
   "source": [
    "# Create predictors X and outcome y variables.\n",
    "X = flight_df.drop(columns=['FL_STATUS_ontime'])\n",
    "y = flight_df['FL_STATUS_ontime']\n",
    "\n",
    "# Partition data into training (60% or 0.6) and validation(40% or 0.4)\n",
    "# of the bank_df data frame.\n",
    "train_X, valid_X, train_y, valid_y = train_test_split(X, y, \n",
    "                            test_size=0.4, random_state=1)\n",
    "\n",
    "log_reg = LogisticRegression(penalty='l2', C=1e42, solver='liblinear')\n",
    "log_reg.fit(train_X, train_y)\n",
    "\n",
    "# Show intercept and coefficients of the multiple predictors' logistic model.\n",
    "print('Parameters of Logistic Regresion Model with Multiple Predictors')\n",
    "print('Intercept:', np.round(log_reg.intercept_[0], decimals=3))\n",
    "print('Coefficients for Predictors')\n",
    "print(pd.DataFrame({'Coeff:': np.round(log_reg.coef_[0], decimals=3)}, \n",
    "                    index=X.columns).transpose())"
   ]
  },
  {
   "cell_type": "markdown",
   "id": "12bfee6c",
   "metadata": {},
   "source": [
    "### 2B In Python, make predictions and identify probabilities p(0) and p(1) for the validation data set. For the first 20 records in the validation data set, display a table that contains the actual and predicted flight arrival status, and probabilities p(0) and p(1). Present this table in your report, and comment on the predicted vs. actual flight arrival status."
   ]
  },
  {
   "cell_type": "code",
   "execution_count": 6,
   "id": "27f3415a",
   "metadata": {},
   "outputs": [
    {
     "name": "stdout",
     "output_type": "stream",
     "text": [
      "Classification for Validation Partition of First 20 Rows\n",
      "      Actual  Classification    p(0)    p(1)\n",
      "1276       1               1  0.1392  0.8608\n",
      "1446       1               1  0.0795  0.9205\n",
      "335        1               1  0.0916  0.9084\n",
      "1458       1               1  0.1136  0.8864\n",
      "2038       1               1  0.0738  0.9262\n",
      "1314       1               1  0.0672  0.9328\n",
      "389        1               1  0.1599  0.8401\n",
      "1639       1               1  0.1263  0.8737\n",
      "2004       1               1  0.0951  0.9049\n",
      "403        1               1  0.3002  0.6998\n",
      "979        1               1  0.0488  0.9512\n",
      "65         1               1  0.0691  0.9309\n",
      "2105       1               1  0.1434  0.8566\n",
      "1162       1               1  0.1037  0.8963\n",
      "572        1               1  0.3036  0.6964\n",
      "1026       0               1  0.0649  0.9351\n",
      "1044       1               0  0.5242  0.4758\n",
      "1846       0               1  0.4611  0.5389\n",
      "1005       1               1  0.1545  0.8455\n",
      "1677       1               1  0.0503  0.9497\n"
     ]
    }
   ],
   "source": [
    "# Make predictions for validation set using multiple\n",
    "# predictors logistic regression model. \n",
    "\n",
    "# Predict multiple predictors logistic model's results \n",
    "# (0 or 1) for validation set.\n",
    "log_pred = log_reg.predict(valid_X)\n",
    "\n",
    "# Predict multiple predictors logistic model's probabilities \n",
    "# p(0) and p(1) for validation set.\n",
    "log_prob = np.round(log_reg.predict_proba(valid_X), decimals=4)\n",
    "\n",
    "# Create data frame to show multiple predictors logistic\n",
    "# model resuts for validation set. \n",
    "log_result = pd.DataFrame({'Actual': valid_y, \n",
    "                    'Classification': log_pred,\n",
    "                    'p(0)': [p[0] for p in log_prob],\n",
    "                    'p(1)': [p[1] for p in log_prob]\n",
    "})\n",
    "\n",
    "print('Classification for Validation Partition of First 20 Rows')\n",
    "print(log_result.head(20))"
   ]
  },
  {
   "cell_type": "markdown",
   "id": "a6fddf5d",
   "metadata": {},
   "source": [
    "### 2C. Identify and display in Python confusion matrices for the training and validation partitions. Present them in your report and comment on accuracy (misclassification) rate for both partitions and explain if there is a possibility of overfitting."
   ]
  },
  {
   "cell_type": "code",
   "execution_count": 7,
   "id": "3d192471",
   "metadata": {},
   "outputs": [
    {
     "name": "stdout",
     "output_type": "stream",
     "text": [
      "Training Partition\n",
      "Confusion Matrix (Accuracy 0.9015)\n",
      "\n",
      "       Prediction\n",
      "Actual    0    1\n",
      "     0  141  120\n",
      "     1   10 1049\n",
      "\n",
      "Validation Partition\n",
      "Confusion Matrix (Accuracy 0.8990)\n",
      "\n",
      "       Prediction\n",
      "Actual   0   1\n",
      "     0  90  77\n",
      "     1  12 702\n"
     ]
    }
   ],
   "source": [
    "# Confusion matrices for multiple predictors logistic model. \n",
    "\n",
    "# Identify and display confusion matrix for training partition. \n",
    "print('Training Partition')\n",
    "classificationSummary(train_y, log_reg.predict(train_X))\n",
    "\n",
    "# Identify and display confusion matrix for validation partition. \n",
    "print()\n",
    "print('Validation Partition')\n",
    "classificationSummary(valid_y, log_reg.predict(valid_X))"
   ]
  },
  {
   "cell_type": "markdown",
   "id": "ef6502b8",
   "metadata": {},
   "source": [
    "### 2D. Create and display in Python the Lift chart only for ‘delayed’ flight status. For that, use p(0) for .sort_values() and p(0) in liftChart(). Also use ncols=1 in plt.subplots() for a single plot, and remove ax=axes[1] from liftChart(). Present this Lift chart in your report and briefly explain what the chart demonstrates and what conclusion(s) can be made."
   ]
  },
  {
   "cell_type": "code",
   "execution_count": 8,
   "id": "6a26a7ca",
   "metadata": {},
   "outputs": [
    {
     "data": {
      "image/png": "[encoded data removed]",
      "text/plain": [
       "<Figure size 720x288 with 1 Axes>"
      ]
     },
     "metadata": {
      "needs_background": "light"
     },
     "output_type": "display_data"
    }
   ],
   "source": [
    "# Create a new df data frame from logit_result data frame\n",
    "# that is sorted by p(1) in descending order.  \n",
    "df = log_result.sort_values(by=['p(0)'], ascending=False)\n",
    "\n",
    "# Create a data plot with two plots (ncols=2) back-to-back (nrows=1).\n",
    "fig, axes = plt.subplots(nrows=1, ncols=1, figsize=(10, 4))\n",
    "\n",
    "# Using liftChart() function, create decile-wise Lift chart. \n",
    "# In this Lift chart, taking the 10% of the records \n",
    "# that are ranked by the model as 'most probable 1's' \n",
    "# yields 7.8 times as many 1's as would simply selecting \n",
    "# 10% of the records at random.\n",
    "\n",
    "liftChart(df['p(0)'], title='Lift chart for \"'\"Delayed\"'\" flight')\n",
    " \n",
    "# Display the charts. \n",
    "plt.tight_layout()\n",
    "plt.show()"
   ]
  },
  {
   "cell_type": "markdown",
   "id": "f15da577",
   "metadata": {},
   "source": [
    "## 4. Extra Credit (Optional)."
   ]
  },
  {
   "cell_type": "code",
   "execution_count": 9,
   "id": "9984c155",
   "metadata": {},
   "outputs": [
    {
     "name": "stdout",
     "output_type": "stream",
     "text": [
      "Variables: SCH_TIME, DEP_TIME, DISTANCE, FL_NUM, WEATHER, WK_DAY, MTH_DAY, CARRIER_DH, CARRIER_DL, CARRIER_MQ, CARRIER_OH, CARRIER_RU, CARRIER_UA, CARRIER_US\n",
      "Start: score=692.43\n",
      "Step: score=619.37, remove MTH_DAY\n",
      "Step: score=597.73, remove DISTANCE\n",
      "Step: score=597.73, remove None\n",
      "\n",
      "Best predictors after Backward Elimination:\n",
      "\n",
      "['SCH_TIME', 'DEP_TIME', 'FL_NUM', 'WEATHER', 'WK_DAY', 'CARRIER_DH', 'CARRIER_DL', 'CARRIER_MQ', 'CARRIER_OH', 'CARRIER_RU', 'CARRIER_UA', 'CARRIER_US']\n"
     ]
    }
   ],
   "source": [
    "def train_model(variables):\n",
    "    model = LogisticRegression(penalty='l2', C=1e42, solver='liblinear', max_iter=500)\n",
    "    model.fit(train_X[variables],train_y)\n",
    "    return model\n",
    "\n",
    "def score_model(model, variables):\n",
    "    return AIC_score(train_y,model.predict(train_X[variables]),model)\n",
    "\n",
    "best_model_be, best_variables_be = backward_elimination(train_X.columns, train_model, score_model, verbose=True)\n",
    "print()\n",
    "print('Best predictors after Backward Elimination:')\n",
    "print()\n",
    "print(best_variables_be)"
   ]
  },
  {
   "cell_type": "markdown",
   "id": "cc53dc06",
   "metadata": {},
   "source": [
    "## Making Model with Backward Elimination resulted Predictors"
   ]
  },
  {
   "cell_type": "code",
   "execution_count": 10,
   "id": "2bb4874d",
   "metadata": {},
   "outputs": [],
   "source": [
    "#defining the predictors and outome variable based on Backward Elimination\n",
    "\n",
    "x_be = flight_df[best_variables_be]\n",
    "y_be = flight_df[\"FL_STATUS_ontime\"]\n",
    "\n",
    "#partitioning the dataset.\n",
    "train_x_be, valid_x_be, train_y_be, valid_y_be = train_test_split(x_be,y_be,test_size=0.4,random_state=1)"
   ]
  },
  {
   "cell_type": "code",
   "execution_count": 11,
   "id": "e5da51c2",
   "metadata": {},
   "outputs": [
    {
     "name": "stdout",
     "output_type": "stream",
     "text": [
      "Parameters of Logistic Regresion Model with Multiple Predictors for training data\n",
      "Intercept: 1.018\n",
      "Coefficients for Predictors\n",
      "        SCH_TIME  DEP_TIME  FL_NUM  WEATHER  WK_DAY  CARRIER_DH  CARRIER_DL  \\\n",
      "Coeff:     0.033    -0.033     0.0   -1.659   0.082      -0.409       1.128   \n",
      "\n",
      "        CARRIER_MQ  CARRIER_OH  CARRIER_RU  CARRIER_UA  CARRIER_US  \n",
      "Coeff:       -1.22         1.0      -0.102       0.953       0.173  \n"
     ]
    }
   ],
   "source": [
    "log_reg_be = LogisticRegression(penalty='l2', C=1e42, solver='liblinear')\n",
    "log_reg_be.fit(train_x_be, train_y_be)\n",
    "\n",
    "# Show intercept and coefficients of the multiple predictors' logistic model.\n",
    "print('Parameters of Logistic Regresion Model with Multiple Predictors for training data')\n",
    "print('Intercept:', np.round(log_reg_be.intercept_[0], decimals=3))\n",
    "print('Coefficients for Predictors')\n",
    "print(pd.DataFrame({'Coeff:': np.round(log_reg_be.coef_[0], decimals=3)}, \n",
    "                    index=x_be.columns).transpose())"
   ]
  },
  {
   "cell_type": "code",
   "execution_count": 12,
   "id": "2ed449fc",
   "metadata": {},
   "outputs": [
    {
     "name": "stdout",
     "output_type": "stream",
     "text": [
      "Classification for Validation Partition of First 20 Rows\n",
      "      Actual  Classification    p(0)    p(1)\n",
      "1276       1               1  0.1322  0.8678\n",
      "1446       1               1  0.0728  0.9272\n",
      "335        1               1  0.1059  0.8941\n",
      "1458       1               1  0.0970  0.9030\n",
      "2038       1               1  0.0582  0.9418\n",
      "1314       1               1  0.0631  0.9369\n",
      "389        1               1  0.0473  0.9527\n",
      "1639       1               1  0.1029  0.8971\n",
      "2004       1               1  0.0735  0.9265\n",
      "403        1               1  0.3665  0.6335\n",
      "979        1               1  0.0525  0.9475\n",
      "65         1               1  0.1050  0.8950\n",
      "2105       1               1  0.1029  0.8971\n",
      "1162       1               1  0.1272  0.8728\n",
      "572        1               1  0.3669  0.6331\n",
      "1026       0               1  0.0674  0.9326\n",
      "1044       1               1  0.4946  0.5054\n",
      "1846       0               1  0.3907  0.6093\n",
      "1005       1               1  0.1705  0.8295\n",
      "1677       1               1  0.0556  0.9444\n"
     ]
    }
   ],
   "source": [
    "# Make predictions for validation set using multiple predictors from backward elimination. \n",
    "\n",
    "# Predict multiple predictors logistic model's results \n",
    "# (0 or 1) for validation set.\n",
    "log_pred_be = log_reg_be.predict(valid_x_be)\n",
    "\n",
    "# Predict multiple predictors logistic model's probabilities \n",
    "# p(0) and p(1) for validation set.\n",
    "log_prob_be = np.round(log_reg_be.predict_proba(valid_x_be), decimals=4)\n",
    "\n",
    "# Create data frame to show multiple predictors logistic\n",
    "# model resuts for validation set. \n",
    "log_result_be = pd.DataFrame({'Actual': valid_y_be, \n",
    "                    'Classification': log_pred_be,\n",
    "                    'p(0)': [p[0] for p in log_prob_be],\n",
    "                    'p(1)': [p[1] for p in log_prob_be]\n",
    "})\n",
    "\n",
    "print('Classification for Validation Partition of First 20 Rows')\n",
    "print(log_result_be.head(20))"
   ]
  },
  {
   "cell_type": "code",
   "execution_count": 13,
   "id": "4bad1b23",
   "metadata": {},
   "outputs": [
    {
     "name": "stdout",
     "output_type": "stream",
     "text": [
      "Training Partition\n",
      "Confusion Matrix (Accuracy 0.9083)\n",
      "\n",
      "       Prediction\n",
      "Actual    0    1\n",
      "     0  147  114\n",
      "     1    7 1052\n",
      "\n",
      "Validation Partition\n",
      "Confusion Matrix (Accuracy 0.9115)\n",
      "\n",
      "       Prediction\n",
      "Actual   0   1\n",
      "     0  94  73\n",
      "     1   5 709\n"
     ]
    }
   ],
   "source": [
    "# Confusion matrices for multiple predictors logistic model. \n",
    "\n",
    "# Identify and display confusion matrix for training partition. \n",
    "print('Training Partition')\n",
    "classificationSummary(train_y_be, log_reg_be.predict(train_x_be))\n",
    "\n",
    "# Identify and display confusion matrix for validation partition. \n",
    "print()\n",
    "print('Validation Partition')\n",
    "classificationSummary(valid_y_be, log_reg_be.predict(valid_x_be))"
   ]
  },
  {
   "cell_type": "code",
   "execution_count": null,
   "id": "473c75fb",
   "metadata": {},
   "outputs": [],
   "source": []
  }
 ],
 "metadata": {
  "kernelspec": {
   "display_name": "Python 3 (ipykernel)",
   "language": "python",
   "name": "python3"
  },
  "language_info": {
   "codemirror_mode": {
    "name": "ipython",
    "version": 3
   },
   "file_extension": ".py",
   "mimetype": "text/x-python",
   "name": "python",
   "nbconvert_exporter": "python",
   "pygments_lexer": "ipython3",
   "version": "3.8.2"
  }
 },
 "nbformat": 4,
 "nbformat_minor": 5
}
