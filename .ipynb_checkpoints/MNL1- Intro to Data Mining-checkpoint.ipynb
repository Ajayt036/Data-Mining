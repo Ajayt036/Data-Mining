{
 "cells": [
  {
   "cell_type": "markdown",
   "metadata": {},
   "source": [
    "#  Introduction and FIrst Linear Model\n",
    "\n",
    "- Delaing with Null Values\n",
    "- Partition of Data\n",
    "- Buildig Linear regression"
   ]
  },
  {
   "cell_type": "markdown",
   "metadata": {},
   "source": [
    "## Import required packages."
   ]
  },
  {
   "cell_type": "code",
   "execution_count": 60,
   "metadata": {},
   "outputs": [],
   "source": [
    "from pathlib import Path # to interact with file system.\n",
    "\n",
    "import numpy as np # for working with arrays.\n",
    "import pandas as pd # for working with data frames (tables).\n",
    "\n",
    "\n",
    "from sklearn.model_selection import train_test_split # for data partition.\n",
    "from sklearn.metrics import r2_score # to identify r_squared for regression model.\n",
    "from sklearn.linear_model import LinearRegression # for linear regression model. \n",
    "\n",
    "%matplotlib inline \n",
    "import matplotlib.pylab as plt # for building and showing graphs."
   ]
  },
  {
   "cell_type": "markdown",
   "metadata": {},
   "source": [
    "Note that some imported packages use alias notations, to make the code more readable.\n",
    "\n",
    "import <package> as <alias>\n",
    "\n",
    "The aliases `np`, `pd`, and `plt` are commonly used in the data science community.\n"
   ]
  },
  {
   "cell_type": "markdown",
   "metadata": {},
   "source": [
    "## Step 2:  Load the West Roxbury data set. "
   ]
  },
  {
   "cell_type": "code",
   "execution_count": 61,
   "metadata": {},
   "outputs": [],
   "source": [
    "# Create a deta frame in Python using WestRoxbury.csv file.\n",
    "housing_df = pd.read_csv('WestRoxbury.csv')"
   ]
  },
  {
   "cell_type": "code",
   "execution_count": 62,
   "metadata": {},
   "outputs": [
    {
     "data": {
      "text/html": [
       "<div>\n",
       "<style scoped>\n",
       "    .dataframe tbody tr th:only-of-type {\n",
       "        vertical-align: middle;\n",
       "    }\n",
       "\n",
       "    .dataframe tbody tr th {\n",
       "        vertical-align: top;\n",
       "    }\n",
       "\n",
       "    .dataframe thead th {\n",
       "        text-align: right;\n",
       "    }\n",
       "</style>\n",
       "<table border=\"1\" class=\"dataframe\">\n",
       "  <thead>\n",
       "    <tr style=\"text-align: right;\">\n",
       "      <th></th>\n",
       "      <th>TOTAL VALUE</th>\n",
       "      <th>TAX</th>\n",
       "      <th>LOT SQFT</th>\n",
       "      <th>YR BUILT</th>\n",
       "      <th>GROSS AREA</th>\n",
       "      <th>LIVING AREA</th>\n",
       "      <th>FLOORS</th>\n",
       "      <th>ROOMS</th>\n",
       "      <th>BEDROOMS</th>\n",
       "      <th>FULL BATH</th>\n",
       "      <th>HALF BATH</th>\n",
       "      <th>KITCHEN</th>\n",
       "      <th>FIREPLACE</th>\n",
       "      <th>REMODEL</th>\n",
       "    </tr>\n",
       "  </thead>\n",
       "  <tbody>\n",
       "    <tr>\n",
       "      <th>5797</th>\n",
       "      <td>404.8</td>\n",
       "      <td>5092</td>\n",
       "      <td>6762</td>\n",
       "      <td>1938</td>\n",
       "      <td>2594</td>\n",
       "      <td>1714</td>\n",
       "      <td>2.0</td>\n",
       "      <td>9</td>\n",
       "      <td>3</td>\n",
       "      <td>2</td>\n",
       "      <td>1</td>\n",
       "      <td>1</td>\n",
       "      <td>1</td>\n",
       "      <td>Recent</td>\n",
       "    </tr>\n",
       "    <tr>\n",
       "      <th>5798</th>\n",
       "      <td>407.9</td>\n",
       "      <td>5131</td>\n",
       "      <td>9408</td>\n",
       "      <td>1950</td>\n",
       "      <td>2414</td>\n",
       "      <td>1333</td>\n",
       "      <td>2.0</td>\n",
       "      <td>6</td>\n",
       "      <td>3</td>\n",
       "      <td>1</td>\n",
       "      <td>1</td>\n",
       "      <td>1</td>\n",
       "      <td>1</td>\n",
       "      <td>None</td>\n",
       "    </tr>\n",
       "    <tr>\n",
       "      <th>5799</th>\n",
       "      <td>406.5</td>\n",
       "      <td>5113</td>\n",
       "      <td>7198</td>\n",
       "      <td>1987</td>\n",
       "      <td>2480</td>\n",
       "      <td>1674</td>\n",
       "      <td>2.0</td>\n",
       "      <td>7</td>\n",
       "      <td>3</td>\n",
       "      <td>1</td>\n",
       "      <td>1</td>\n",
       "      <td>1</td>\n",
       "      <td>1</td>\n",
       "      <td>None</td>\n",
       "    </tr>\n",
       "    <tr>\n",
       "      <th>5800</th>\n",
       "      <td>308.7</td>\n",
       "      <td>3883</td>\n",
       "      <td>6890</td>\n",
       "      <td>1946</td>\n",
       "      <td>2000</td>\n",
       "      <td>1000</td>\n",
       "      <td>1.0</td>\n",
       "      <td>5</td>\n",
       "      <td>2</td>\n",
       "      <td>1</td>\n",
       "      <td>0</td>\n",
       "      <td>1</td>\n",
       "      <td>0</td>\n",
       "      <td>None</td>\n",
       "    </tr>\n",
       "    <tr>\n",
       "      <th>5801</th>\n",
       "      <td>447.6</td>\n",
       "      <td>5630</td>\n",
       "      <td>7406</td>\n",
       "      <td>1950</td>\n",
       "      <td>2510</td>\n",
       "      <td>1600</td>\n",
       "      <td>2.0</td>\n",
       "      <td>7</td>\n",
       "      <td>3</td>\n",
       "      <td>1</td>\n",
       "      <td>1</td>\n",
       "      <td>1</td>\n",
       "      <td>1</td>\n",
       "      <td>None</td>\n",
       "    </tr>\n",
       "  </tbody>\n",
       "</table>\n",
       "</div>"
      ],
      "text/plain": [
       "      TOTAL VALUE    TAX  LOT SQFT   YR BUILT  GROSS AREA   LIVING AREA  \\\n",
       "5797         404.8  5092       6762      1938         2594         1714   \n",
       "5798         407.9  5131       9408      1950         2414         1333   \n",
       "5799         406.5  5113       7198      1987         2480         1674   \n",
       "5800         308.7  3883       6890      1946         2000         1000   \n",
       "5801         447.6  5630       7406      1950         2510         1600   \n",
       "\n",
       "      FLOORS   ROOMS  BEDROOMS   FULL BATH  HALF BATH  KITCHEN  FIREPLACE  \\\n",
       "5797      2.0      9          3          2          1        1          1   \n",
       "5798      2.0      6          3          1          1        1          1   \n",
       "5799      2.0      7          3          1          1        1          1   \n",
       "5800      1.0      5          2          1          0        1          0   \n",
       "5801      2.0      7          3          1          1        1          1   \n",
       "\n",
       "     REMODEL  \n",
       "5797  Recent  \n",
       "5798    None  \n",
       "5799    None  \n",
       "5800    None  \n",
       "5801    None  "
      ]
     },
     "execution_count": 62,
     "metadata": {},
     "output_type": "execute_result"
    }
   ],
   "source": [
    "# Display the last five rows of the dataframe.\n",
    "housing_df.tail()"
   ]
  },
  {
   "cell_type": "markdown",
   "metadata": {},
   "source": [
    "## Step 2: Sampling and oversampling data."
   ]
  },
  {
   "cell_type": "code",
   "execution_count": 63,
   "metadata": {},
   "outputs": [
    {
     "data": {
      "text/html": [
       "<div>\n",
       "<style scoped>\n",
       "    .dataframe tbody tr th:only-of-type {\n",
       "        vertical-align: middle;\n",
       "    }\n",
       "\n",
       "    .dataframe tbody tr th {\n",
       "        vertical-align: top;\n",
       "    }\n",
       "\n",
       "    .dataframe thead th {\n",
       "        text-align: right;\n",
       "    }\n",
       "</style>\n",
       "<table border=\"1\" class=\"dataframe\">\n",
       "  <thead>\n",
       "    <tr style=\"text-align: right;\">\n",
       "      <th></th>\n",
       "      <th>TOTAL VALUE</th>\n",
       "      <th>TAX</th>\n",
       "      <th>LOT SQFT</th>\n",
       "      <th>YR BUILT</th>\n",
       "      <th>GROSS AREA</th>\n",
       "      <th>LIVING AREA</th>\n",
       "      <th>FLOORS</th>\n",
       "      <th>ROOMS</th>\n",
       "      <th>BEDROOMS</th>\n",
       "      <th>FULL BATH</th>\n",
       "      <th>HALF BATH</th>\n",
       "      <th>KITCHEN</th>\n",
       "      <th>FIREPLACE</th>\n",
       "      <th>REMODEL</th>\n",
       "    </tr>\n",
       "  </thead>\n",
       "  <tbody>\n",
       "    <tr>\n",
       "      <th>4680</th>\n",
       "      <td>571.3</td>\n",
       "      <td>7186</td>\n",
       "      <td>7981</td>\n",
       "      <td>1886</td>\n",
       "      <td>4580</td>\n",
       "      <td>2480</td>\n",
       "      <td>2.0</td>\n",
       "      <td>11</td>\n",
       "      <td>6</td>\n",
       "      <td>2</td>\n",
       "      <td>1</td>\n",
       "      <td>1</td>\n",
       "      <td>1</td>\n",
       "      <td>None</td>\n",
       "    </tr>\n",
       "    <tr>\n",
       "      <th>3291</th>\n",
       "      <td>605.5</td>\n",
       "      <td>7617</td>\n",
       "      <td>10233</td>\n",
       "      <td>1910</td>\n",
       "      <td>6549</td>\n",
       "      <td>3845</td>\n",
       "      <td>2.5</td>\n",
       "      <td>12</td>\n",
       "      <td>4</td>\n",
       "      <td>2</td>\n",
       "      <td>1</td>\n",
       "      <td>1</td>\n",
       "      <td>1</td>\n",
       "      <td>None</td>\n",
       "    </tr>\n",
       "    <tr>\n",
       "      <th>2509</th>\n",
       "      <td>416.0</td>\n",
       "      <td>5233</td>\n",
       "      <td>6028</td>\n",
       "      <td>1935</td>\n",
       "      <td>2777</td>\n",
       "      <td>1834</td>\n",
       "      <td>2.0</td>\n",
       "      <td>7</td>\n",
       "      <td>3</td>\n",
       "      <td>1</td>\n",
       "      <td>1</td>\n",
       "      <td>1</td>\n",
       "      <td>2</td>\n",
       "      <td>None</td>\n",
       "    </tr>\n",
       "    <tr>\n",
       "      <th>575</th>\n",
       "      <td>310.0</td>\n",
       "      <td>3899</td>\n",
       "      <td>6000</td>\n",
       "      <td>1960</td>\n",
       "      <td>2088</td>\n",
       "      <td>1521</td>\n",
       "      <td>1.0</td>\n",
       "      <td>7</td>\n",
       "      <td>3</td>\n",
       "      <td>1</td>\n",
       "      <td>1</td>\n",
       "      <td>1</td>\n",
       "      <td>0</td>\n",
       "      <td>None</td>\n",
       "    </tr>\n",
       "    <tr>\n",
       "      <th>4500</th>\n",
       "      <td>490.1</td>\n",
       "      <td>6165</td>\n",
       "      <td>9000</td>\n",
       "      <td>1939</td>\n",
       "      <td>4123</td>\n",
       "      <td>2285</td>\n",
       "      <td>2.0</td>\n",
       "      <td>11</td>\n",
       "      <td>4</td>\n",
       "      <td>1</td>\n",
       "      <td>1</td>\n",
       "      <td>1</td>\n",
       "      <td>1</td>\n",
       "      <td>Old</td>\n",
       "    </tr>\n",
       "    <tr>\n",
       "      <th>2199</th>\n",
       "      <td>623.5</td>\n",
       "      <td>7843</td>\n",
       "      <td>9875</td>\n",
       "      <td>1910</td>\n",
       "      <td>5653</td>\n",
       "      <td>3184</td>\n",
       "      <td>2.0</td>\n",
       "      <td>11</td>\n",
       "      <td>5</td>\n",
       "      <td>1</td>\n",
       "      <td>1</td>\n",
       "      <td>1</td>\n",
       "      <td>2</td>\n",
       "      <td>None</td>\n",
       "    </tr>\n",
       "    <tr>\n",
       "      <th>523</th>\n",
       "      <td>437.9</td>\n",
       "      <td>5508</td>\n",
       "      <td>8861</td>\n",
       "      <td>1798</td>\n",
       "      <td>5356</td>\n",
       "      <td>2953</td>\n",
       "      <td>2.0</td>\n",
       "      <td>11</td>\n",
       "      <td>4</td>\n",
       "      <td>2</td>\n",
       "      <td>0</td>\n",
       "      <td>1</td>\n",
       "      <td>0</td>\n",
       "      <td>Old</td>\n",
       "    </tr>\n",
       "    <tr>\n",
       "      <th>2687</th>\n",
       "      <td>397.1</td>\n",
       "      <td>4995</td>\n",
       "      <td>5000</td>\n",
       "      <td>1910</td>\n",
       "      <td>3014</td>\n",
       "      <td>1878</td>\n",
       "      <td>2.0</td>\n",
       "      <td>11</td>\n",
       "      <td>6</td>\n",
       "      <td>2</td>\n",
       "      <td>0</td>\n",
       "      <td>1</td>\n",
       "      <td>1</td>\n",
       "      <td>None</td>\n",
       "    </tr>\n",
       "    <tr>\n",
       "      <th>3224</th>\n",
       "      <td>629.9</td>\n",
       "      <td>7924</td>\n",
       "      <td>11533</td>\n",
       "      <td>1918</td>\n",
       "      <td>5934</td>\n",
       "      <td>3927</td>\n",
       "      <td>2.5</td>\n",
       "      <td>11</td>\n",
       "      <td>6</td>\n",
       "      <td>1</td>\n",
       "      <td>1</td>\n",
       "      <td>1</td>\n",
       "      <td>2</td>\n",
       "      <td>None</td>\n",
       "    </tr>\n",
       "    <tr>\n",
       "      <th>4657</th>\n",
       "      <td>791.6</td>\n",
       "      <td>9958</td>\n",
       "      <td>7629</td>\n",
       "      <td>1890</td>\n",
       "      <td>6321</td>\n",
       "      <td>3521</td>\n",
       "      <td>2.0</td>\n",
       "      <td>12</td>\n",
       "      <td>6</td>\n",
       "      <td>4</td>\n",
       "      <td>1</td>\n",
       "      <td>1</td>\n",
       "      <td>2</td>\n",
       "      <td>Recent</td>\n",
       "    </tr>\n",
       "  </tbody>\n",
       "</table>\n",
       "</div>"
      ],
      "text/plain": [
       "      TOTAL VALUE    TAX  LOT SQFT   YR BUILT  GROSS AREA   LIVING AREA  \\\n",
       "4680         571.3  7186       7981      1886         4580         2480   \n",
       "3291         605.5  7617      10233      1910         6549         3845   \n",
       "2509         416.0  5233       6028      1935         2777         1834   \n",
       "575          310.0  3899       6000      1960         2088         1521   \n",
       "4500         490.1  6165       9000      1939         4123         2285   \n",
       "2199         623.5  7843       9875      1910         5653         3184   \n",
       "523          437.9  5508       8861      1798         5356         2953   \n",
       "2687         397.1  4995       5000      1910         3014         1878   \n",
       "3224         629.9  7924      11533      1918         5934         3927   \n",
       "4657         791.6  9958       7629      1890         6321         3521   \n",
       "\n",
       "      FLOORS   ROOMS  BEDROOMS   FULL BATH  HALF BATH  KITCHEN  FIREPLACE  \\\n",
       "4680      2.0     11          6          2          1        1          1   \n",
       "3291      2.5     12          4          2          1        1          1   \n",
       "2509      2.0      7          3          1          1        1          2   \n",
       "575       1.0      7          3          1          1        1          0   \n",
       "4500      2.0     11          4          1          1        1          1   \n",
       "2199      2.0     11          5          1          1        1          2   \n",
       "523       2.0     11          4          2          0        1          0   \n",
       "2687      2.0     11          6          2          0        1          1   \n",
       "3224      2.5     11          6          1          1        1          2   \n",
       "4657      2.0     12          6          4          1        1          2   \n",
       "\n",
       "     REMODEL  \n",
       "4680    None  \n",
       "3291    None  \n",
       "2509    None  \n",
       "575     None  \n",
       "4500     Old  \n",
       "2199    None  \n",
       "523      Old  \n",
       "2687    None  \n",
       "3224    None  \n",
       "4657  Recent  "
      ]
     },
     "execution_count": 63,
     "metadata": {},
     "output_type": "execute_result"
    }
   ],
   "source": [
    "# The sample() function allows to specify weights for the individual rows. \n",
    "# Use this to oversample houses with records that have over 10 rooms.\n",
    "weights = [0.9 if rooms > 10 else 0.01 for rooms in housing_df.ROOMS]\n",
    "housing_df.sample(10, weights=weights)"
   ]
  },
  {
   "cell_type": "markdown",
   "metadata": {},
   "source": [
    "## Step 3: Data exploration, cleanup, and preprocessing."
   ]
  },
  {
   "cell_type": "code",
   "execution_count": 64,
   "metadata": {},
   "outputs": [
    {
     "name": "stdout",
     "output_type": "stream",
     "text": [
      "Modified column titles with no space and one word for titles:\n"
     ]
    },
    {
     "data": {
      "text/plain": [
       "Index(['TOTAL_VALUE', 'TAX', 'LOT_SQFT', 'YR_BUILT', 'GROSS_AREA',\n",
       "       'LIVING_AREA', 'FLOORS', 'ROOMS', 'BEDROOMS', 'FULL_BATH', 'HALF_BATH',\n",
       "       'KITCHEN', 'FIREPLACE', 'REMODEL'],\n",
       "      dtype='object')"
      ]
     },
     "execution_count": 64,
     "metadata": {},
     "output_type": "execute_result"
    }
   ],
   "source": [
    "# We therefore strip trailing spaces and replace the remaining spaces \n",
    "# with an underscore _. Instead of using the `rename` method, we \n",
    "# create a modified copy of `columns` and assign to the `columns` \n",
    "# field of the dataframe.\n",
    "print('Modified column titles with no space and one word for titles:')\n",
    "housing_df.columns = [s.strip().replace(' ', '_') for s in housing_df.columns]\n",
    "housing_df.columns"
   ]
  },
  {
   "cell_type": "code",
   "execution_count": 65,
   "metadata": {},
   "outputs": [
    {
     "data": {
      "text/html": [
       "<div>\n",
       "<style scoped>\n",
       "    .dataframe tbody tr th:only-of-type {\n",
       "        vertical-align: middle;\n",
       "    }\n",
       "\n",
       "    .dataframe tbody tr th {\n",
       "        vertical-align: top;\n",
       "    }\n",
       "\n",
       "    .dataframe thead th {\n",
       "        text-align: right;\n",
       "    }\n",
       "</style>\n",
       "<table border=\"1\" class=\"dataframe\">\n",
       "  <thead>\n",
       "    <tr style=\"text-align: right;\">\n",
       "      <th></th>\n",
       "      <th>TOTAL_VALUE</th>\n",
       "      <th>TAX</th>\n",
       "      <th>LOT_SQFT</th>\n",
       "      <th>YR_BUILT</th>\n",
       "      <th>GROSS_AREA</th>\n",
       "      <th>LIVING_AREA</th>\n",
       "      <th>FLOORS</th>\n",
       "      <th>ROOMS</th>\n",
       "      <th>BEDROOMS</th>\n",
       "      <th>FULL_BATH</th>\n",
       "      <th>HALF_BATH</th>\n",
       "      <th>KITCHEN</th>\n",
       "      <th>FIREPLACE</th>\n",
       "    </tr>\n",
       "  </thead>\n",
       "  <tbody>\n",
       "    <tr>\n",
       "      <th>count</th>\n",
       "      <td>5802.00</td>\n",
       "      <td>5802.00</td>\n",
       "      <td>5802.00</td>\n",
       "      <td>5802.00</td>\n",
       "      <td>5802.00</td>\n",
       "      <td>5802.00</td>\n",
       "      <td>5802.00</td>\n",
       "      <td>5802.00</td>\n",
       "      <td>5802.00</td>\n",
       "      <td>5802.00</td>\n",
       "      <td>5802.00</td>\n",
       "      <td>5802.00</td>\n",
       "      <td>5802.00</td>\n",
       "    </tr>\n",
       "    <tr>\n",
       "      <th>mean</th>\n",
       "      <td>392.69</td>\n",
       "      <td>4939.49</td>\n",
       "      <td>6278.08</td>\n",
       "      <td>1936.74</td>\n",
       "      <td>2924.84</td>\n",
       "      <td>1657.07</td>\n",
       "      <td>1.68</td>\n",
       "      <td>6.99</td>\n",
       "      <td>3.23</td>\n",
       "      <td>1.30</td>\n",
       "      <td>0.61</td>\n",
       "      <td>1.02</td>\n",
       "      <td>0.74</td>\n",
       "    </tr>\n",
       "    <tr>\n",
       "      <th>std</th>\n",
       "      <td>99.18</td>\n",
       "      <td>1247.65</td>\n",
       "      <td>2669.71</td>\n",
       "      <td>35.99</td>\n",
       "      <td>883.98</td>\n",
       "      <td>540.46</td>\n",
       "      <td>0.44</td>\n",
       "      <td>1.44</td>\n",
       "      <td>0.85</td>\n",
       "      <td>0.52</td>\n",
       "      <td>0.53</td>\n",
       "      <td>0.12</td>\n",
       "      <td>0.57</td>\n",
       "    </tr>\n",
       "    <tr>\n",
       "      <th>min</th>\n",
       "      <td>105.00</td>\n",
       "      <td>1320.00</td>\n",
       "      <td>997.00</td>\n",
       "      <td>0.00</td>\n",
       "      <td>821.00</td>\n",
       "      <td>504.00</td>\n",
       "      <td>1.00</td>\n",
       "      <td>3.00</td>\n",
       "      <td>1.00</td>\n",
       "      <td>1.00</td>\n",
       "      <td>0.00</td>\n",
       "      <td>1.00</td>\n",
       "      <td>0.00</td>\n",
       "    </tr>\n",
       "    <tr>\n",
       "      <th>25%</th>\n",
       "      <td>325.12</td>\n",
       "      <td>4089.50</td>\n",
       "      <td>4772.00</td>\n",
       "      <td>1920.00</td>\n",
       "      <td>2347.00</td>\n",
       "      <td>1308.00</td>\n",
       "      <td>1.00</td>\n",
       "      <td>6.00</td>\n",
       "      <td>3.00</td>\n",
       "      <td>1.00</td>\n",
       "      <td>0.00</td>\n",
       "      <td>1.00</td>\n",
       "      <td>0.00</td>\n",
       "    </tr>\n",
       "    <tr>\n",
       "      <th>50%</th>\n",
       "      <td>375.90</td>\n",
       "      <td>4728.00</td>\n",
       "      <td>5683.00</td>\n",
       "      <td>1935.00</td>\n",
       "      <td>2700.00</td>\n",
       "      <td>1548.50</td>\n",
       "      <td>2.00</td>\n",
       "      <td>7.00</td>\n",
       "      <td>3.00</td>\n",
       "      <td>1.00</td>\n",
       "      <td>1.00</td>\n",
       "      <td>1.00</td>\n",
       "      <td>1.00</td>\n",
       "    </tr>\n",
       "    <tr>\n",
       "      <th>75%</th>\n",
       "      <td>438.78</td>\n",
       "      <td>5519.50</td>\n",
       "      <td>7022.25</td>\n",
       "      <td>1955.00</td>\n",
       "      <td>3239.00</td>\n",
       "      <td>1873.75</td>\n",
       "      <td>2.00</td>\n",
       "      <td>8.00</td>\n",
       "      <td>4.00</td>\n",
       "      <td>2.00</td>\n",
       "      <td>1.00</td>\n",
       "      <td>1.00</td>\n",
       "      <td>1.00</td>\n",
       "    </tr>\n",
       "    <tr>\n",
       "      <th>max</th>\n",
       "      <td>1217.80</td>\n",
       "      <td>15319.00</td>\n",
       "      <td>46411.00</td>\n",
       "      <td>2011.00</td>\n",
       "      <td>8154.00</td>\n",
       "      <td>5289.00</td>\n",
       "      <td>3.00</td>\n",
       "      <td>14.00</td>\n",
       "      <td>9.00</td>\n",
       "      <td>5.00</td>\n",
       "      <td>3.00</td>\n",
       "      <td>2.00</td>\n",
       "      <td>4.00</td>\n",
       "    </tr>\n",
       "  </tbody>\n",
       "</table>\n",
       "</div>"
      ],
      "text/plain": [
       "       TOTAL_VALUE       TAX  LOT_SQFT  YR_BUILT  GROSS_AREA  LIVING_AREA  \\\n",
       "count      5802.00   5802.00   5802.00   5802.00     5802.00      5802.00   \n",
       "mean        392.69   4939.49   6278.08   1936.74     2924.84      1657.07   \n",
       "std          99.18   1247.65   2669.71     35.99      883.98       540.46   \n",
       "min         105.00   1320.00    997.00      0.00      821.00       504.00   \n",
       "25%         325.12   4089.50   4772.00   1920.00     2347.00      1308.00   \n",
       "50%         375.90   4728.00   5683.00   1935.00     2700.00      1548.50   \n",
       "75%         438.78   5519.50   7022.25   1955.00     3239.00      1873.75   \n",
       "max        1217.80  15319.00  46411.00   2011.00     8154.00      5289.00   \n",
       "\n",
       "        FLOORS    ROOMS  BEDROOMS  FULL_BATH  HALF_BATH  KITCHEN  FIREPLACE  \n",
       "count  5802.00  5802.00   5802.00    5802.00    5802.00  5802.00    5802.00  \n",
       "mean      1.68     6.99      3.23       1.30       0.61     1.02       0.74  \n",
       "std       0.44     1.44      0.85       0.52       0.53     0.12       0.57  \n",
       "min       1.00     3.00      1.00       1.00       0.00     1.00       0.00  \n",
       "25%       1.00     6.00      3.00       1.00       0.00     1.00       0.00  \n",
       "50%       2.00     7.00      3.00       1.00       1.00     1.00       1.00  \n",
       "75%       2.00     8.00      4.00       2.00       1.00     1.00       1.00  \n",
       "max       3.00    14.00      9.00       5.00       3.00     2.00       4.00  "
      ]
     },
     "execution_count": 65,
     "metadata": {},
     "output_type": "execute_result"
    }
   ],
   "source": [
    "# Use describe() function to display column statistics\n",
    "# for the entire data set. \n",
    "np.round(housing_df.describe(), decimals=2)"
   ]
  },
  {
   "cell_type": "markdown",
   "metadata": {},
   "source": [
    "##  Step 3: Data set variables and change variable type. "
   ]
  },
  {
   "cell_type": "code",
   "execution_count": 66,
   "metadata": {},
   "outputs": [
    {
     "name": "stdout",
     "output_type": "stream",
     "text": [
      "Original REMODEL variable:\n",
      "object\n",
      " \n",
      "Category levels and changed variable type:\n",
      "Index(['None', 'Old', 'Recent'], dtype='object')\n",
      "category\n"
     ]
    }
   ],
   "source": [
    "# The REMODEL column is 'object'; does not have \n",
    "# the 'category' definition.\n",
    "print('Original REMODEL variable:')\n",
    "print(housing_df.REMODEL.dtype)\n",
    "\n",
    "# Need to change REMODEL variable type to 'category'. \n",
    "housing_df.REMODEL = housing_df.REMODEL.astype('category')\n",
    "\n",
    "# Display category levels (attributes) and category type.\n",
    "print(' ')\n",
    "print('Category levels and changed variable type:')\n",
    "print(housing_df.REMODEL.cat.categories)  # It can take one of three levels.\n",
    "print(housing_df.REMODEL.dtype)  # Type is now 'category'."
   ]
  },
  {
   "cell_type": "code",
   "execution_count": 67,
   "metadata": {},
   "outputs": [
    {
     "data": {
      "text/plain": [
       "Index(['TOTAL_VALUE', 'TAX', 'LOT_SQFT', 'YR_BUILT', 'GROSS_AREA',\n",
       "       'LIVING_AREA', 'FLOORS', 'ROOMS', 'BEDROOMS', 'FULL_BATH', 'HALF_BATH',\n",
       "       'KITCHEN', 'FIREPLACE', 'REMODEL_Old', 'REMODEL_Recent'],\n",
       "      dtype='object')"
      ]
     },
     "execution_count": 67,
     "metadata": {},
     "output_type": "execute_result"
    }
   ],
   "source": [
    "# Convert category variable REMODEL into dummy variables, \n",
    "# REMODEL_Old and REMODEL_Recent. \n",
    "# Use drop_first=True to drop the first dummy variable for 'None'.\n",
    "housing_df = pd.get_dummies(housing_df, prefix_sep='_', \n",
    "                            drop_first=True)\n",
    "housing_df.columns"
   ]
  },
  {
   "cell_type": "code",
   "execution_count": 68,
   "metadata": {},
   "outputs": [
    {
     "name": "stdout",
     "output_type": "stream",
     "text": [
      "   REMODEL_Old  REMODEL_Recent\n",
      "0            0               0\n",
      "1            0               1\n",
      "2            0               0\n",
      "3            0               0\n",
      "4            0               0\n",
      "5            1               0\n",
      "6            0               0\n",
      "7            0               0\n",
      "8            0               1\n",
      "9            0               0\n"
     ]
    }
   ],
   "source": [
    "# Display values of the new dummy variables, \n",
    "# REMODEL_Old and REMODEL_Recent.\n",
    "# If both dummy variables equal to 0, then REMODEL is 'None'.\n",
    "print(housing_df.loc[:, 'REMODEL_Old':'REMODEL_Recent'].head(10))"
   ]
  },
  {
   "cell_type": "markdown",
   "metadata": {},
   "source": [
    "## Step 3: Missing values' data procedures."
   ]
  },
  {
   "cell_type": "code",
   "execution_count": 69,
   "metadata": {},
   "outputs": [
    {
     "name": "stdout",
     "output_type": "stream",
     "text": [
      "Number of rows and columns in data set:\n",
      "(5802, 14)\n",
      "\n",
      "Original column names:\n",
      "Index(['TOTAL VALUE ', 'TAX', 'LOT SQFT ', 'YR BUILT', 'GROSS AREA ',\n",
      "       'LIVING AREA', 'FLOORS ', 'ROOMS', 'BEDROOMS ', 'FULL BATH',\n",
      "       'HALF BATH', 'KITCHEN', 'FIREPLACE', 'REMODEL'],\n",
      "      dtype='object')\n",
      "\n",
      "Updated column names:\n",
      "Index(['TOTAL_VALUE', 'TAX', 'LOT_SQFT', 'YR_BUILT', 'GROSS_AREA',\n",
      "       'LIVING_AREA', 'FLOORS', 'ROOMS', 'BEDROOMS', 'FULL_BATH', 'HALF_BATH',\n",
      "       'KITCHEN', 'FIREPLACE', 'REMODEL'],\n",
      "      dtype='object')\n",
      "\n",
      "Number of rows with valid BEDROOMS values before:\n",
      "5802\n"
     ]
    }
   ],
   "source": [
    "# Create a deta frame in Python using WestRoxbury.csv file.\n",
    "housing_df_miss = pd.read_csv('WestRoxbury.csv')\n",
    "\n",
    "# Determine and display dimensions of data frame. \n",
    "print('Number of rows and columns in data set:')\n",
    "print(housing_df_miss.shape) # It has 5802 rows and 14 columns.\n",
    "\n",
    "# Display original column names.\n",
    "print()\n",
    "print('Original column names:')\n",
    "print(housing_df_miss.columns)\n",
    "\n",
    "# Strip trailing spaces and replace the remaining spaces \n",
    "# with an underscore _. Instead of using the `rename` method, we \n",
    "# create a modified copy of `columns` and assign to the `columns` \n",
    "# field of the dataframe. \n",
    "# Display changed column names.\n",
    "housing_df_miss.columns = [s.strip().replace(' ', '_') for s in housing_df_miss.columns]\n",
    "print()\n",
    "print('Updated column names:')\n",
    "print(housing_df_miss.columns)\n",
    "\n",
    "# Display number of rows before putting NA values in BEDROOMS \n",
    "# column.\n",
    "print()\n",
    "print('Number of rows with valid BEDROOMS values before:') \n",
    "print(housing_df_miss['BEDROOMS'].count()) \n"
   ]
  },
  {
   "cell_type": "code",
   "execution_count": 70,
   "metadata": {},
   "outputs": [
    {
     "name": "stdout",
     "output_type": "stream",
     "text": [
      "Sample rows for which missing values will be added:\n",
      "Int64Index([2122, 2614, 3184, 42, 5436, 794, 3940, 3193, 3152, 223], dtype='int64')\n"
     ]
    }
   ],
   "source": [
    "# To illustrate missing data procedures, we first convert \n",
    "# a few entries for BEDROOMS column to NA's. \n",
    "\n",
    "# Create a sample of 10 rows from the data frame housing_df, for which\n",
    "# missing values will be added in BEDROOMS column.\n",
    "missingRows = housing_df_miss.sample(10).index\n",
    "\n",
    "# Display rows, for which missing values will be added.\n",
    "print('Sample rows for which missing values will be added:') \n",
    "print(missingRows)\n"
   ]
  },
  {
   "cell_type": "code",
   "execution_count": 71,
   "metadata": {},
   "outputs": [
    {
     "name": "stdout",
     "output_type": "stream",
     "text": [
      "Number of rows with valid BEDROOMS values after setting to NaN:  5792\n"
     ]
    }
   ],
   "source": [
    "# In 10-sample rows, put NAs (NaN) in the BEDROOMS column.\n",
    "housing_df_miss.loc[missingRows, 'BEDROOMS'] = np.nan\n",
    "\n",
    "# Display the number of rows with BEDROOM values (without NsN).\n",
    "print('Number of rows with valid BEDROOMS values after setting to NaN: ', \n",
    "      housing_df_miss['BEDROOMS'].count()) "
   ]
  },
  {
   "cell_type": "code",
   "execution_count": 72,
   "metadata": {},
   "outputs": [
    {
     "name": "stdout",
     "output_type": "stream",
     "text": [
      "Number of rows after removing rows with missing values:  5792\n"
     ]
    }
   ],
   "source": [
    "# Remove rows with missing values.\n",
    "reduced_df = housing_df_miss.dropna()\n",
    "\n",
    "# Display number of rows after removing missing values. \n",
    "print('Number of rows after removing rows with missing values: ', len(reduced_df))"
   ]
  },
  {
   "cell_type": "code",
   "execution_count": 73,
   "metadata": {},
   "outputs": [
    {
     "name": "stdout",
     "output_type": "stream",
     "text": [
      "Number of rows with valid BEDROOMS values after filling NaN values:  5802\n"
     ]
    }
   ],
   "source": [
    "# Impute missing values using the median of the \n",
    "# remaining values. By default, the median() function \n",
    "# of pandas dataframe ignores NA values. \n",
    "\n",
    "# Identify median of BEDROOMS column values \n",
    "# (NA values ignored).\n",
    "medianBedrooms = housing_df_miss['BEDROOMS'].median()\n",
    "\n",
    "# In BEDROOM column, fill (impute) the value \n",
    "# of median for NA (NaN) values.\n",
    "housing_df_miss.BEDROOMS = housing_df.BEDROOMS.fillna(value=medianBedrooms)\n",
    "\n",
    "# Display the number of rows with valid BEDROOM values \n",
    "#(no NAs) after imputation. \n",
    "print('Number of rows with valid BEDROOMS values after filling NaN values: ',\n",
    "      housing_df_miss['BEDROOMS'].count())"
   ]
  },
  {
   "cell_type": "markdown",
   "metadata": {},
   "source": [
    "## Step 6: Partition data. "
   ]
  },
  {
   "cell_type": "code",
   "execution_count": 74,
   "metadata": {},
   "outputs": [
    {
     "name": "stdout",
     "output_type": "stream",
     "text": [
      "Data paritions using Pandas\n",
      "Training  :  (3481, 15)\n",
      "Validation:  (2321, 15)\n",
      "\n",
      "Data partitions using scikit-learn\n",
      "Training  :  (3481, 15)\n",
      "Validation:  (2321, 15)\n"
     ]
    }
   ],
   "source": [
    "# Split the data set into training (60%) and validation (40%) sets. \n",
    "# Randomly sample 60% of the data set into a new data frame \n",
    "# 'trainData'. The remaining 40% serve as validation set, \n",
    "# 'validData'.\n",
    "\n",
    "# Develop training set (partition).\n",
    "# Random_state is set to a defined value to get the same partitions \n",
    "# when re-running the code.\n",
    "trainData= housing_df.sample(frac=0.6, random_state=1)\n",
    "\n",
    "# Assign and display rows that are not already in the training \n",
    "# set, into validation set, validData. \n",
    "validData = housing_df.drop(trainData.index)\n",
    "\n",
    "print('Data paritions using Pandas')\n",
    "print('Training  : ', trainData.shape)\n",
    "print('Validation: ', validData.shape)\n",
    "\n",
    "# Alternative way of partition using scikit-learn package.\n",
    "# This approach, which is simpler, will be used in all Python \n",
    "# files to partition data.\n",
    "print()\n",
    "print('Data partitions using scikit-learn')\n",
    "trainData, validData = train_test_split(housing_df, test_size=0.40, random_state=1)\n",
    "print('Training  : ', trainData.shape)\n",
    "print('Validation: ', validData.shape)"
   ]
  },
  {
   "cell_type": "markdown",
   "metadata": {},
   "source": [
    "## Steps 7 and 8: Chooase DM technique (linear regression) and associated algorithm LinearRegression() for WestRoxbury example. "
   ]
  },
  {
   "cell_type": "code",
   "execution_count": 75,
   "metadata": {
    "scrolled": false
   },
   "outputs": [
    {
     "name": "stdout",
     "output_type": "stream",
     "text": [
      "Actual, Predicted, and Residual Values for TOTAL_VALUE in Training Set\n",
      "\n",
      "      TOTAL_VALUE   Predicted   Residual\n",
      "2024        392.0  387.726258   4.273742\n",
      "5140        476.3  430.785540  45.514460\n",
      "5259        367.4  384.042952 -16.642952\n",
      "421         350.3  369.005551 -18.705551\n",
      "1401        348.1  314.725722  33.374278\n"
     ]
    }
   ],
   "source": [
    "# Data loading and preprocessing.\n",
    "\n",
    "# Develop dataframe.\n",
    "housing_df = pd.read_csv('WestRoxbury.csv') \n",
    "\n",
    "# Make column titles (variable names) as one word and \n",
    "# without blank. \n",
    "housing_df.columns = [s.strip().replace(' ', '_') for s in housing_df.columns] \n",
    "\n",
    "# Develo dummy variables for categorical variables \n",
    "# (REMODEL_Old and REMODEL_Recent).\n",
    "housing_df = pd.get_dummies(housing_df, prefix_sep='_', drop_first=True)\n",
    "\n",
    "# Exclude TOTAL_VALUE and TAX columns (variables) from predictors.\n",
    "excludeColumns = ('TOTAL_VALUE', 'TAX')\n",
    "\n",
    "# Develop predictor variables. \n",
    "predictors = [s for s in housing_df.columns if s not in excludeColumns]\n",
    "\n",
    "# Develop outcome. \n",
    "outcome = 'TOTAL_VALUE'\n",
    "\n",
    "# Partition data for X (predictors) and y (outcome). \n",
    "# The split is 60% for training parition set, and 40% for validation \n",
    "# parition set.\n",
    "X = housing_df[predictors]\n",
    "y = housing_df[outcome]\n",
    "train_X, valid_X, train_y, valid_y = train_test_split(X, y, test_size=0.4, random_state=1)\n",
    "\n",
    "# Using LinerRegression() function from scikit-learn, develop \n",
    "# linear regression model based on training set.\n",
    "lin_model = LinearRegression()\n",
    "lin_model.fit(train_X, train_y)\n",
    "\n",
    "# Using the developed linear regression model, lin_model, predict values \n",
    "# in the training set. \n",
    "train_pred = lin_model.predict(train_X)\n",
    "print('Actual, Predicted, and Residual Values for TOTAL_VALUE in Training Set')\n",
    "print()\n",
    "train_results = pd.DataFrame({\n",
    "    'TOTAL_VALUE': train_y, \n",
    "    'Predicted': train_pred, \n",
    "    'Residual': train_y - train_pred\n",
    "})\n",
    "print(train_results.head())"
   ]
  },
  {
   "cell_type": "code",
   "execution_count": 76,
   "metadata": {
    "scrolled": true
   },
   "outputs": [
    {
     "data": {
      "image/png": "[encoded data removed]",
      "text/plain": [
       "<Figure size 432x288 with 1 Axes>"
      ]
     },
     "metadata": {
      "needs_background": "light"
     },
     "output_type": "display_data"
    }
   ],
   "source": [
    "# Develop and display plot for actual and predicted values \n",
    "# of TOTAL_VALUE for training set.\n",
    "plt.plot(train_results.TOTAL_VALUE, train_results.Predicted, '.')\n",
    "plt.xlabel('Actual ')  # set x-axis label\n",
    "plt.ylabel('Predicted')  # set y-axis label\n",
    "axes = plt.gca()\n",
    "plt.plot(axes.get_xlim(), axes.get_xlim(), '--')\n",
    "plt.show()"
   ]
  },
  {
   "cell_type": "code",
   "execution_count": 77,
   "metadata": {},
   "outputs": [
    {
     "name": "stdout",
     "output_type": "stream",
     "text": [
      "Actual, Predicted, and Residual Values for TOTAL_VALUE in Validation Set\n",
      "\n",
      "      TOTAL_VALUE   Predicted   Residual\n",
      "1822        462.0  406.946377  55.053623\n",
      "1998        370.4  362.888928   7.511072\n",
      "5126        407.4  390.287208  17.112792\n",
      "808         316.1  382.470203 -66.370203\n",
      "4034        393.2  434.334998 -41.134998\n"
     ]
    }
   ],
   "source": [
    "# Using the developed linear regression model, lin_model, predict values \n",
    "# in the validation set. \n",
    "valid_pred = lin_model.predict(valid_X)\n",
    "valid_results = pd.DataFrame({\n",
    "    'TOTAL_VALUE': valid_y, \n",
    "    'Predicted': valid_pred, \n",
    "    'Residual': valid_y - valid_pred\n",
    "})\n",
    "print('Actual, Predicted, and Residual Values for TOTAL_VALUE in Validation Set')\n",
    "print()\n",
    "print(valid_results.head())"
   ]
  },
  {
   "cell_type": "code",
   "execution_count": 78,
   "metadata": {
    "scrolled": true
   },
   "outputs": [
    {
     "data": {
      "image/png": "[encoded data removed]",
      "text/plain": [
       "<Figure size 432x288 with 1 Axes>"
      ]
     },
     "metadata": {
      "needs_background": "light"
     },
     "output_type": "display_data"
    }
   ],
   "source": [
    "# Develop and display plot for validation set.\n",
    "plt.plot(valid_results.TOTAL_VALUE, valid_results.Predicted, '.')\n",
    "plt.xlabel('Actual')  # set x-axis label\n",
    "plt.ylabel('Predicted')  # set y-axis label\n",
    "\n",
    "plt.plot(axes.get_xlim(), axes.get_xlim(), '--')\n",
    "plt.show()"
   ]
  },
  {
   "cell_type": "markdown",
   "metadata": {},
   "source": [
    "## Step 8: Use accuracy perfomance metrics to assess the model's performance."
   ]
  },
  {
   "cell_type": "code",
   "execution_count": 79,
   "metadata": {},
   "outputs": [
    {
     "name": "stdout",
     "output_type": "stream",
     "text": [
      "Training set r2:  0.8097361461091853\n",
      "Validation set r2:  0.8171327286147876\n"
     ]
    }
   ],
   "source": [
    "# Identify and display the metrics that scikit-learn provides.\n",
    "print('Training set r2: ', r2_score(train_results.TOTAL_VALUE, train_results.Predicted))\n",
    "print('Validation set r2: ', r2_score(valid_results.TOTAL_VALUE, valid_results.Predicted))"
   ]
  },
  {
   "cell_type": "code",
   "execution_count": 80,
   "metadata": {
    "scrolled": true
   },
   "outputs": [
    {
     "name": "stdout",
     "output_type": "stream",
     "text": [
      "no display found. Using non-interactive Agg backend\n",
      "Accuracy Performance Measures for Trainining Set\n",
      "\n",
      "Regression statistics\n",
      "\n",
      "                      Mean Error (ME) : 0.0000\n",
      "       Root Mean Squared Error (RMSE) : 43.0306\n",
      "            Mean Absolute Error (MAE) : 32.6042\n",
      "          Mean Percentage Error (MPE) : -1.1116\n",
      "Mean Absolute Percentage Error (MAPE) : 8.4886\n",
      "\n",
      "Accuracy Performance Measures for Validation Set\n",
      "\n",
      "Regression statistics\n",
      "\n",
      "                      Mean Error (ME) : -0.1463\n",
      "       Root Mean Squared Error (RMSE) : 42.7292\n",
      "            Mean Absolute Error (MAE) : 31.9663\n",
      "          Mean Percentage Error (MPE) : -1.0884\n",
      "Mean Absolute Percentage Error (MAPE) : 8.3283\n"
     ]
    }
   ],
   "source": [
    "# Import the utility function regressionSummary() for measuring \n",
    "# performance accuracy of the predictive technique (linear\n",
    "# regression model). \n",
    "from dmba import regressionSummary\n",
    "\n",
    "# Use and display regressionSummary() for training set.\n",
    "print('Accuracy Performance Measures for Trainining Set')\n",
    "regressionSummary(train_results.TOTAL_VALUE, train_results.Predicted)\n",
    "print()\n",
    "\n",
    "# Use and display regressionSummary() for validation set.\n",
    "print('Accuracy Performance Measures for Validation Set')\n",
    "regressionSummary(valid_results.TOTAL_VALUE, valid_results.Predicted)"
   ]
  },
  {
   "cell_type": "markdown",
   "metadata": {},
   "source": [
    "## Step 10: Make predictions for new data records."
   ]
  },
  {
   "cell_type": "code",
   "execution_count": 81,
   "metadata": {
    "scrolled": true
   },
   "outputs": [
    {
     "name": "stdout",
     "output_type": "stream",
     "text": [
      "   LOT_SQFT  YR_BUILT  GROSS_AREA  LIVING_AREA  FLOORS  ROOMS  BEDROOMS  \\\n",
      "0      4200      1960        2670         1710     2.0     10         4   \n",
      "1      6444      1940        2886         1474     1.5      6         3   \n",
      "2      5035      1925        3264         1523     1.9      6         2   \n",
      "\n",
      "   FULL_BATH  HALF_BATH  KITCHEN  FIREPLACE  REMODEL_Old  REMODEL_Recent  \n",
      "0          1          1        1          1            0               0  \n",
      "1          1          1        1          1            0               0  \n",
      "2          1          0        1          0            0               1  \n",
      "Predictions:  [384.472 378.067 386.018]\n"
     ]
    }
   ],
   "source": [
    "# Develop dataframe with 3 new records. \n",
    "# Notice that the TOTAL_VALUE response variable\n",
    "# is not present in these records.\n",
    "new_data = pd.DataFrame({\n",
    "    'LOT_SQFT': [4200, 6444, 5035],\n",
    "    'YR_BUILT': [1960, 1940, 1925],\n",
    "    'GROSS_AREA': [2670, 2886, 3264],\n",
    "    'LIVING_AREA': [1710, 1474, 1523],\n",
    "    'FLOORS': [2.0, 1.5, 1.9],\n",
    "    'ROOMS': [10, 6, 6],\n",
    "    'BEDROOMS': [4, 3, 2],\n",
    "    'FULL_BATH': [1, 1, 1],\n",
    "    'HALF_BATH': [1, 1, 0],\n",
    "    'KITCHEN': [1, 1, 1],\n",
    "    'FIREPLACE': [1, 1, 0],\n",
    "    'REMODEL_Old': [0, 0, 0],\n",
    "    'REMODEL_Recent': [0, 0, 1],\n",
    "})\n",
    "\n",
    "# Display the 3 new records.\n",
    "print(new_data)\n",
    "\n",
    "# Display the prediction results of using the linear regression model\n",
    "# for the 3 new records.\n",
    "# Round prediction results by 3 decimals.\n",
    "print('Predictions: ', np.round(lin_model.predict(new_data), decimals=3))"
   ]
  },
  {
   "cell_type": "code",
   "execution_count": null,
   "metadata": {},
   "outputs": [],
   "source": []
  }
 ],
 "metadata": {
  "kernelspec": {
   "display_name": "Python 3 (ipykernel)",
   "language": "python",
   "name": "python3"
  },
  "language_info": {
   "codemirror_mode": {
    "name": "ipython",
    "version": 3
   },
   "file_extension": ".py",
   "mimetype": "text/x-python",
   "name": "python",
   "nbconvert_exporter": "python",
   "pygments_lexer": "ipython3",
   "version": "3.8.8"
  }
 },
 "nbformat": 4,
 "nbformat_minor": 2
}
